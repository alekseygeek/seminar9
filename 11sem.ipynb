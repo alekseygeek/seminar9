{
 "cells": [
  {
   "cell_type": "code",
   "execution_count": 1,
   "metadata": {
    "id": "yT-3H1-EYgQq"
   },
   "outputs": [],
   "source": [
    "# Библиотека для работы с табличными данными\n",
    "import pandas as pd\n"
   ]
  },
  {
   "cell_type": "markdown",
   "metadata": {
    "id": "b1oKxTdReZa8"
   },
   "source": [
    "Библиотека **pandas** может читать многие форматы, включая: **.csv, .xslx, .xls, .txt, sql** и многие другие.\n",
    "\n",
    "Полный список по [ссылке](https://pandas.pydata.org/pandas-docs/stable/user_guide/io.html)"
   ]
  },
  {
   "cell_type": "code",
   "execution_count": 2,
   "metadata": {
    "id": "-e37LxEUYyuF"
   },
   "outputs": [],
   "source": [
    "# 1)Прочесть с помощью pandas файл california_housing_test.csv\n",
    "# Прочтем файл .csv с помощью библиотеки pandas\n",
    "df = pd.read_csv('california_housing_test.csv')\n"
   ]
  },
  {
   "cell_type": "code",
   "execution_count": 3,
   "metadata": {
    "colab": {
     "base_uri": "https://localhost:8080/"
    },
    "id": "umkBzt2xahSz",
    "outputId": "a4fe3ae9-e1fe-481b-e76f-f22bb45f5d2a"
   },
   "outputs": [
    {
     "data": {
      "text/plain": [
       "(3402, 9)"
      ]
     },
     "execution_count": 3,
     "metadata": {},
     "output_type": "execute_result"
    }
   ],
   "source": [
    "# 2)Посмотреть сколько в нем строк и столбцов\n",
    "# Возвращает размеры таблицы: кортеж из 2 значений, 1 кол-во строк, 2 - кол-во столбцов\n",
    "df.shape\n"
   ]
  },
  {
   "cell_type": "code",
   "execution_count": 4,
   "metadata": {
    "colab": {
     "base_uri": "https://localhost:8080/"
    },
    "id": "wLwOwLdSa2f6",
    "outputId": "eaeaf5bc-8a32-494e-ea44-392eabeea272"
   },
   "outputs": [
    {
     "data": {
      "text/plain": [
       "Unnamed: 0              int64\n",
       "longitude             float64\n",
       "latitude              float64\n",
       "housing_median_age      int64\n",
       "total_rooms             int64\n",
       "total_bedrooms          int64\n",
       "population              int64\n",
       "households              int64\n",
       "median_income         float64\n",
       "dtype: object"
      ]
     },
     "execution_count": 4,
     "metadata": {},
     "output_type": "execute_result"
    }
   ],
   "source": [
    "# 3)Определить какой тип данных имеют столбцы\n",
    "# Проверить тип данных в столбцах\n",
    "# В данных случаях везде float, число 64 указывает на разрядность(Используется 64 байта для хранения значения в памяти,\n",
    "# чем меньше разрядность, тем меньший диапазон могут принимать числа и тем меньше тратится памяти на хранение.\n",
    "df.dtypes\n"
   ]
  },
  {
   "cell_type": "code",
   "execution_count": 5,
   "metadata": {
    "colab": {
     "base_uri": "https://localhost:8080/",
     "height": 424
    },
    "id": "tuzsq2X2fpyZ",
    "outputId": "9ab600fd-e545-437d-f7a2-e2f3569e749f"
   },
   "outputs": [
    {
     "data": {
      "text/html": [
       "<div>\n",
       "<style scoped>\n",
       "    .dataframe tbody tr th:only-of-type {\n",
       "        vertical-align: middle;\n",
       "    }\n",
       "\n",
       "    .dataframe tbody tr th {\n",
       "        vertical-align: top;\n",
       "    }\n",
       "\n",
       "    .dataframe thead th {\n",
       "        text-align: right;\n",
       "    }\n",
       "</style>\n",
       "<table border=\"1\" class=\"dataframe\">\n",
       "  <thead>\n",
       "    <tr style=\"text-align: right;\">\n",
       "      <th></th>\n",
       "      <th>longitude</th>\n",
       "      <th>latitude</th>\n",
       "    </tr>\n",
       "  </thead>\n",
       "  <tbody>\n",
       "    <tr>\n",
       "      <th>0</th>\n",
       "      <td>-117.66</td>\n",
       "      <td>35.60</td>\n",
       "    </tr>\n",
       "    <tr>\n",
       "      <th>1</th>\n",
       "      <td>-117.07</td>\n",
       "      <td>32.71</td>\n",
       "    </tr>\n",
       "    <tr>\n",
       "      <th>2</th>\n",
       "      <td>-117.91</td>\n",
       "      <td>33.61</td>\n",
       "    </tr>\n",
       "    <tr>\n",
       "      <th>3</th>\n",
       "      <td>-117.19</td>\n",
       "      <td>34.05</td>\n",
       "    </tr>\n",
       "    <tr>\n",
       "      <th>4</th>\n",
       "      <td>-119.58</td>\n",
       "      <td>36.83</td>\n",
       "    </tr>\n",
       "    <tr>\n",
       "      <th>...</th>\n",
       "      <td>...</td>\n",
       "      <td>...</td>\n",
       "    </tr>\n",
       "    <tr>\n",
       "      <th>3397</th>\n",
       "      <td>-118.33</td>\n",
       "      <td>34.09</td>\n",
       "    </tr>\n",
       "    <tr>\n",
       "      <th>3398</th>\n",
       "      <td>-117.88</td>\n",
       "      <td>34.09</td>\n",
       "    </tr>\n",
       "    <tr>\n",
       "      <th>3399</th>\n",
       "      <td>-118.32</td>\n",
       "      <td>34.26</td>\n",
       "    </tr>\n",
       "    <tr>\n",
       "      <th>3400</th>\n",
       "      <td>-118.12</td>\n",
       "      <td>33.80</td>\n",
       "    </tr>\n",
       "    <tr>\n",
       "      <th>3401</th>\n",
       "      <td>-118.19</td>\n",
       "      <td>33.78</td>\n",
       "    </tr>\n",
       "  </tbody>\n",
       "</table>\n",
       "<p>3402 rows × 2 columns</p>\n",
       "</div>"
      ],
      "text/plain": [
       "      longitude  latitude\n",
       "0       -117.66     35.60\n",
       "1       -117.07     32.71\n",
       "2       -117.91     33.61\n",
       "3       -117.19     34.05\n",
       "4       -119.58     36.83\n",
       "...         ...       ...\n",
       "3397    -118.33     34.09\n",
       "3398    -117.88     34.09\n",
       "3399    -118.32     34.26\n",
       "3400    -118.12     33.80\n",
       "3401    -118.19     33.78\n",
       "\n",
       "[3402 rows x 2 columns]"
      ]
     },
     "execution_count": 5,
     "metadata": {},
     "output_type": "execute_result"
    }
   ],
   "source": [
    "# 5)Показать столбцы longitude и latitude\n",
    "# Выбор нескольких столбцов [широта, кол-во жителей]\n",
    "df[['longitude', 'latitude']]\n"
   ]
  },
  {
   "cell_type": "code",
   "execution_count": 6,
   "metadata": {
    "colab": {
     "base_uri": "https://localhost:8080/",
     "height": 424
    },
    "id": "Nb6STwSff3z8",
    "outputId": "8822f496-1b4c-4b84-c98b-c302de73bdad"
   },
   "outputs": [
    {
     "data": {
      "text/html": [
       "<div>\n",
       "<style scoped>\n",
       "    .dataframe tbody tr th:only-of-type {\n",
       "        vertical-align: middle;\n",
       "    }\n",
       "\n",
       "    .dataframe tbody tr th {\n",
       "        vertical-align: top;\n",
       "    }\n",
       "\n",
       "    .dataframe thead th {\n",
       "        text-align: right;\n",
       "    }\n",
       "</style>\n",
       "<table border=\"1\" class=\"dataframe\">\n",
       "  <thead>\n",
       "    <tr style=\"text-align: right;\">\n",
       "      <th></th>\n",
       "      <th>longitude</th>\n",
       "    </tr>\n",
       "  </thead>\n",
       "  <tbody>\n",
       "    <tr>\n",
       "      <th>0</th>\n",
       "      <td>-117.66</td>\n",
       "    </tr>\n",
       "    <tr>\n",
       "      <th>1</th>\n",
       "      <td>-117.07</td>\n",
       "    </tr>\n",
       "    <tr>\n",
       "      <th>2</th>\n",
       "      <td>-117.91</td>\n",
       "    </tr>\n",
       "    <tr>\n",
       "      <th>3</th>\n",
       "      <td>-117.19</td>\n",
       "    </tr>\n",
       "    <tr>\n",
       "      <th>4</th>\n",
       "      <td>-119.58</td>\n",
       "    </tr>\n",
       "    <tr>\n",
       "      <th>...</th>\n",
       "      <td>...</td>\n",
       "    </tr>\n",
       "    <tr>\n",
       "      <th>3392</th>\n",
       "      <td>-122.10</td>\n",
       "    </tr>\n",
       "    <tr>\n",
       "      <th>3393</th>\n",
       "      <td>-117.52</td>\n",
       "    </tr>\n",
       "    <tr>\n",
       "      <th>3395</th>\n",
       "      <td>-117.01</td>\n",
       "    </tr>\n",
       "    <tr>\n",
       "      <th>3398</th>\n",
       "      <td>-117.88</td>\n",
       "    </tr>\n",
       "    <tr>\n",
       "      <th>3399</th>\n",
       "      <td>-118.32</td>\n",
       "    </tr>\n",
       "  </tbody>\n",
       "</table>\n",
       "<p>2216 rows × 1 columns</p>\n",
       "</div>"
      ],
      "text/plain": [
       "      longitude\n",
       "0       -117.66\n",
       "1       -117.07\n",
       "2       -117.91\n",
       "3       -117.19\n",
       "4       -119.58\n",
       "...         ...\n",
       "3392    -122.10\n",
       "3393    -117.52\n",
       "3395    -117.01\n",
       "3398    -117.88\n",
       "3399    -118.32\n",
       "\n",
       "[2216 rows x 1 columns]"
      ]
     },
     "execution_count": 6,
     "metadata": {},
     "output_type": "execute_result"
    }
   ],
   "source": [
    "# 4)Показать longitude где housing_median_age < 35\n",
    "# Выбор определенного кол-ва рядов\n",
    "# Синтаксис df[df[col] !=|==|>|<| значение]\n",
    "df.loc[df['housing_median_age'] < 35, ['longitude']]\n"
   ]
  },
  {
   "cell_type": "code",
   "execution_count": 7,
   "metadata": {
    "colab": {
     "base_uri": "https://localhost:8080/",
     "height": 424
    },
    "id": "sWftHHBZ_Dgg",
    "outputId": "e2bb1d40-e2e2-4da4-9b4b-e7d29b9718db"
   },
   "outputs": [
    {
     "data": {
      "text/html": [
       "<div>\n",
       "<style scoped>\n",
       "    .dataframe tbody tr th:only-of-type {\n",
       "        vertical-align: middle;\n",
       "    }\n",
       "\n",
       "    .dataframe tbody tr th {\n",
       "        vertical-align: top;\n",
       "    }\n",
       "\n",
       "    .dataframe thead th {\n",
       "        text-align: right;\n",
       "    }\n",
       "</style>\n",
       "<table border=\"1\" class=\"dataframe\">\n",
       "  <thead>\n",
       "    <tr style=\"text-align: right;\">\n",
       "      <th></th>\n",
       "      <th>Unnamed: 0</th>\n",
       "      <th>longitude</th>\n",
       "      <th>latitude</th>\n",
       "      <th>housing_median_age</th>\n",
       "      <th>total_rooms</th>\n",
       "      <th>total_bedrooms</th>\n",
       "      <th>population</th>\n",
       "      <th>households</th>\n",
       "      <th>median_income</th>\n",
       "    </tr>\n",
       "  </thead>\n",
       "  <tbody>\n",
       "    <tr>\n",
       "      <th>12</th>\n",
       "      <td>13</td>\n",
       "      <td>-118.21</td>\n",
       "      <td>33.79</td>\n",
       "      <td>39</td>\n",
       "      <td>1598</td>\n",
       "      <td>458</td>\n",
       "      <td>1691</td>\n",
       "      <td>399</td>\n",
       "      <td>2.3605</td>\n",
       "    </tr>\n",
       "    <tr>\n",
       "      <th>18</th>\n",
       "      <td>19</td>\n",
       "      <td>-122.41</td>\n",
       "      <td>37.80</td>\n",
       "      <td>30</td>\n",
       "      <td>1821</td>\n",
       "      <td>738</td>\n",
       "      <td>1648</td>\n",
       "      <td>684</td>\n",
       "      <td>0.8836</td>\n",
       "    </tr>\n",
       "    <tr>\n",
       "      <th>69</th>\n",
       "      <td>70</td>\n",
       "      <td>-117.93</td>\n",
       "      <td>34.01</td>\n",
       "      <td>33</td>\n",
       "      <td>1733</td>\n",
       "      <td>361</td>\n",
       "      <td>1757</td>\n",
       "      <td>375</td>\n",
       "      <td>4.2266</td>\n",
       "    </tr>\n",
       "    <tr>\n",
       "      <th>100</th>\n",
       "      <td>101</td>\n",
       "      <td>-121.24</td>\n",
       "      <td>36.33</td>\n",
       "      <td>13</td>\n",
       "      <td>1642</td>\n",
       "      <td>418</td>\n",
       "      <td>1534</td>\n",
       "      <td>388</td>\n",
       "      <td>3.1222</td>\n",
       "    </tr>\n",
       "    <tr>\n",
       "      <th>120</th>\n",
       "      <td>121</td>\n",
       "      <td>-118.22</td>\n",
       "      <td>33.90</td>\n",
       "      <td>35</td>\n",
       "      <td>1649</td>\n",
       "      <td>424</td>\n",
       "      <td>1786</td>\n",
       "      <td>388</td>\n",
       "      <td>1.4091</td>\n",
       "    </tr>\n",
       "    <tr>\n",
       "      <th>...</th>\n",
       "      <td>...</td>\n",
       "      <td>...</td>\n",
       "      <td>...</td>\n",
       "      <td>...</td>\n",
       "      <td>...</td>\n",
       "      <td>...</td>\n",
       "      <td>...</td>\n",
       "      <td>...</td>\n",
       "      <td>...</td>\n",
       "    </tr>\n",
       "    <tr>\n",
       "      <th>3151</th>\n",
       "      <td>3152</td>\n",
       "      <td>-118.36</td>\n",
       "      <td>34.22</td>\n",
       "      <td>37</td>\n",
       "      <td>1512</td>\n",
       "      <td>348</td>\n",
       "      <td>1545</td>\n",
       "      <td>351</td>\n",
       "      <td>3.7663</td>\n",
       "    </tr>\n",
       "    <tr>\n",
       "      <th>3172</th>\n",
       "      <td>3173</td>\n",
       "      <td>-117.89</td>\n",
       "      <td>33.74</td>\n",
       "      <td>32</td>\n",
       "      <td>1562</td>\n",
       "      <td>365</td>\n",
       "      <td>2145</td>\n",
       "      <td>347</td>\n",
       "      <td>2.9167</td>\n",
       "    </tr>\n",
       "    <tr>\n",
       "      <th>3215</th>\n",
       "      <td>3216</td>\n",
       "      <td>-118.23</td>\n",
       "      <td>33.92</td>\n",
       "      <td>32</td>\n",
       "      <td>1735</td>\n",
       "      <td>430</td>\n",
       "      <td>1699</td>\n",
       "      <td>386</td>\n",
       "      <td>1.1793</td>\n",
       "    </tr>\n",
       "    <tr>\n",
       "      <th>3332</th>\n",
       "      <td>3333</td>\n",
       "      <td>-119.76</td>\n",
       "      <td>36.71</td>\n",
       "      <td>29</td>\n",
       "      <td>1745</td>\n",
       "      <td>441</td>\n",
       "      <td>1530</td>\n",
       "      <td>391</td>\n",
       "      <td>1.5611</td>\n",
       "    </tr>\n",
       "    <tr>\n",
       "      <th>3372</th>\n",
       "      <td>3373</td>\n",
       "      <td>-118.20</td>\n",
       "      <td>33.99</td>\n",
       "      <td>35</td>\n",
       "      <td>1705</td>\n",
       "      <td>523</td>\n",
       "      <td>2252</td>\n",
       "      <td>508</td>\n",
       "      <td>2.3421</td>\n",
       "    </tr>\n",
       "  </tbody>\n",
       "</table>\n",
       "<p>106 rows × 9 columns</p>\n",
       "</div>"
      ],
      "text/plain": [
       "      Unnamed: 0  longitude  latitude  housing_median_age  total_rooms  \\\n",
       "12            13    -118.21     33.79                  39         1598   \n",
       "18            19    -122.41     37.80                  30         1821   \n",
       "69            70    -117.93     34.01                  33         1733   \n",
       "100          101    -121.24     36.33                  13         1642   \n",
       "120          121    -118.22     33.90                  35         1649   \n",
       "...          ...        ...       ...                 ...          ...   \n",
       "3151        3152    -118.36     34.22                  37         1512   \n",
       "3172        3173    -117.89     33.74                  32         1562   \n",
       "3215        3216    -118.23     33.92                  32         1735   \n",
       "3332        3333    -119.76     36.71                  29         1745   \n",
       "3372        3373    -118.20     33.99                  35         1705   \n",
       "\n",
       "      total_bedrooms  population  households  median_income  \n",
       "12               458        1691         399         2.3605  \n",
       "18               738        1648         684         0.8836  \n",
       "69               361        1757         375         4.2266  \n",
       "100              418        1534         388         3.1222  \n",
       "120              424        1786         388         1.4091  \n",
       "...              ...         ...         ...            ...  \n",
       "3151             348        1545         351         3.7663  \n",
       "3172             365        2145         347         2.9167  \n",
       "3215             430        1699         386         1.1793  \n",
       "3332             441        1530         391         1.5611  \n",
       "3372             523        2252         508         2.3421  \n",
       "\n",
       "[106 rows x 9 columns]"
      ]
     },
     "execution_count": 7,
     "metadata": {},
     "output_type": "execute_result"
    }
   ],
   "source": [
    "# 6)Выбрать данные где total_rooms < 2000 и population > 1500\n",
    "# Для отбора можно использовать несколько условий одновременно\n",
    "# Знак & означает 'and', а знак | 'or'\n",
    "df[(df['total_rooms'] < 2000) & (df['population'] > 1500)]\n"
   ]
  },
  {
   "cell_type": "code",
   "execution_count": 8,
   "metadata": {
    "colab": {
     "base_uri": "https://localhost:8080/"
    },
    "id": "j3e_ovOPgv1m",
    "outputId": "edcaad78-e5e5-4ced-b4b2-a2da8c3127ef"
   },
   "outputs": [
    {
     "name": "stdout",
     "output_type": "stream",
     "text": [
      "35682\n",
      "8\n"
     ]
    }
   ],
   "source": [
    "# 7)Определить какое максимальное и минимальное значение population\n",
    "# Максимальное значение\n",
    "print(df['population'].max())\n",
    "# Минимальное значение\n",
    "print(df['population'].min())\n",
    "# Среднее значение\n",
    "# print(df['population'].mean())\n",
    "# Сумма\n",
    "# print(df['population'].sum())\n"
   ]
  },
  {
   "cell_type": "code",
   "execution_count": 9,
   "metadata": {},
   "outputs": [
    {
     "data": {
      "text/plain": [
       "-115.37"
      ]
     },
     "execution_count": 9,
     "metadata": {},
     "output_type": "execute_result"
    }
   ],
   "source": [
    "# 8)(Доп) Показать максимальное longitude, где median_income > 3\n",
    "df[df['median_income'] > 3]['longitude'].max()\n"
   ]
  },
  {
   "cell_type": "code",
   "execution_count": 10,
   "metadata": {
    "colab": {
     "base_uri": "https://localhost:8080/"
    },
    "id": "OVFt37rHkLNX",
    "outputId": "f86eecad-751a-48ae-d9df-69e1a62fdfe1"
   },
   "outputs": [
    {
     "data": {
      "text/plain": [
       "7"
      ]
     },
     "execution_count": 10,
     "metadata": {},
     "output_type": "execute_result"
    }
   ],
   "source": [
    "# 9)(Доп) Узнать какая максимальная total_bedrooms при минимальном значении households\n",
    "df[df['households'] == df['households'].min()]['total_bedrooms'].max()\n"
   ]
  },
  {
   "cell_type": "markdown",
   "metadata": {
    "id": "o6VM2sQQsDmL"
   },
   "source": [
    "# Домашняя Работа !!\n",
    "# Работаем только с файлом california_housing_test.csv \n",
    "1)Прочесть с помощью pandas файл california_housing_test.csv \n",
    "\n",
    "2)Посмотреть сколько в нем строк и столбцов\n",
    "\n",
    "3)Определить какой тип данных имеют столбцы\n",
    "\n",
    "4)Показать longitude где housing_median_age < 35\n",
    "\n",
    "5)Показать столбцы longitude и latitude\n",
    "\n",
    "6)Выбрать данные где total_rooms < 2000 и population > 1500\n",
    "  \n",
    "7)Определить какое максимальное и минимальное значение **population**\n",
    "\n",
    "8)(Доп) Показать максимальное **longitude**, где **median_income** > 3\n",
    "\n",
    "9)(Доп) Узнать какая максимальная **total_bedrooms** при минимальном значении **households**\n",
    "\n",
    "\n"
   ]
  }
 ],
 "metadata": {
  "colab": {
   "collapsed_sections": [],
   "name": "семинар 9",
   "provenance": []
  },
  "kernelspec": {
   "display_name": "Python 3",
   "language": "python",
   "name": "python3"
  },
  "language_info": {
   "codemirror_mode": {
    "name": "ipython",
    "version": 3
   },
   "file_extension": ".py",
   "mimetype": "text/x-python",
   "name": "python",
   "nbconvert_exporter": "python",
   "pygments_lexer": "ipython3",
   "version": "3.11.0"
  },
  "vscode": {
   "interpreter": {
    "hash": "6641ca626583961b37be56eae36e98ad80dedd33588dc62353bf94135308980f"
   }
  }
 },
 "nbformat": 4,
 "nbformat_minor": 1
}
